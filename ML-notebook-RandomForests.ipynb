{
 "cells": [
  {
   "cell_type": "code",
   "execution_count": 57,
   "metadata": {},
   "outputs": [],
   "source": [
    "# import sys\n",
    "# !{sys.executable} -m pip install xgboost"
   ]
  },
  {
   "cell_type": "code",
   "execution_count": 58,
   "metadata": {},
   "outputs": [],
   "source": [
    "import xgboost as xgb\n",
    "import pandas as pd\n",
    "import numpy as np\n",
    "from sklearn.model_selection import TimeSeriesSplit\n",
    "from sklearn.metrics import accuracy_score, mean_squared_error\n",
    "from glob import glob\n",
    "from sklearn.model_selection import GridSearchCV\n",
    "from sklearn.preprocessing import StandardScaler"
   ]
  },
  {
   "cell_type": "code",
   "execution_count": 59,
   "metadata": {},
   "outputs": [],
   "source": [
    "def check_timestamp(ts):\n",
    "    return len(str(ts)) == 13\n"
   ]
  },
  {
   "cell_type": "code",
   "execution_count": 60,
   "metadata": {},
   "outputs": [
    {
     "name": "stdout",
     "output_type": "stream",
     "text": [
      "Opening file: modified_data/gemini_data_BOND_mod.csv\n"
     ]
    }
   ],
   "source": [
    "\n",
    "# Your provided setup\n",
    "file_idx = 12\n",
    "num_epochs = 10\n",
    "TIME_DIFF_1 = 1\n",
    "TIME_DIFF_24 = 24  # a day\n",
    "TIME_DIFF_168 = 24 * 7  # a week\n",
    "features = [\n",
    "    'Volume USD', 'SMA', 'EMA', 'RSI', 'MACD',\n",
    "    'Bollinger_High', 'Bollinger_Low', 'VWAP',\n",
    "    'Percentage_Returns', 'Log_Returns'\n",
    "]\n",
    "targets = [\n",
    "    f\"Target_shifted_{TIME_DIFF_1}\",\n",
    "    f\"Target_shifted_{TIME_DIFF_24}\",\n",
    "    f\"Target_shifted_{TIME_DIFF_168}\"\n",
    "]\n",
    "file_paths = glob('modified_data/gemini_data_*')\n",
    "file_paths.sort()\n",
    "\n",
    "print(f'Opening file: {file_paths[file_idx]}')\n",
    "data = pd.read_csv(file_paths[file_idx])\n",
    "data = data.dropna()\n"
   ]
  },
  {
   "cell_type": "code",
   "execution_count": 61,
   "metadata": {},
   "outputs": [],
   "source": [
    "data['unix'] = data['unix'].apply(lambda x: x//1000 if check_timestamp(x) else x)\n",
    "data['Datetime'] = pd.to_datetime(data['unix'], unit='s')\n",
    "data['Hour'] = data['Datetime'].dt.hour\n",
    "data['Day_of_Week'] = data['Datetime'].dt.dayofweek  # Monday=0, Sunday=6\n",
    "data['Day_of_Month'] = data['Datetime'].dt.day\n",
    "data['Month'] = data['Datetime'].dt.month\n",
    "data['Year'] = data['Datetime'].dt.year\n",
    "data['Is_Weekend'] = (data['Day_of_Week'] >= 5).astype(int)  # 1 for weekend, 0 for weekdays\n",
    "# Updating the features list\n",
    "features_extended = features + ['Hour', 'Day_of_Week', 'Day_of_Month', 'Month', 'Year', 'Is_Weekend']\n",
    "#  ('MACD', 0.045680176),\n",
    "#  ('SMA', 0.039496846),\n",
    "#  ('Day_of_Week', 0.038991235),\n",
    "#  ('Day_of_Month', 0.038741197),\n",
    "#  ('Hour', 0.03847502),\n",
    "#  ('Log_Returns', 0.0),\n",
    "#  ('Is_Weekend', 0.0)]\n",
    "drop_features = ['MACD', 'SMA', 'Day_of_Week', 'Day_of_Month', 'Hour', 'Log_Returns', 'Is_Weekend']\n",
    "features_extended = [feature for feature in features_extended if feature not in drop_features]"
   ]
  },
  {
   "cell_type": "code",
   "execution_count": 62,
   "metadata": {},
   "outputs": [],
   "source": [
    "# Selecting the features to be normalized\n",
    "X_extended = data[features_extended].values\n",
    "\n",
    "# Applying Z-normalization\n",
    "scaler = StandardScaler()\n",
    "X_normalized = scaler.fit_transform(X_extended)\n",
    "\n",
    "# If you want to update your dataframe with normalized values\n",
    "data_normalized = data.copy()\n",
    "data_normalized[features_extended] = X_normalized"
   ]
  },
  {
   "cell_type": "code",
   "execution_count": 63,
   "metadata": {},
   "outputs": [],
   "source": [
    "# Step 1: Data Preparation\n",
    "all_columns = features_extended + targets\n",
    "prices = data_normalized[all_columns].values\n",
    "\n",
    "# Assume the targets are continuous values. If they are categories, you'll need to adjust the code accordingly.\n",
    "X = prices[:, :-3]  # Features\n",
    "y1, y2, y3 = prices[:, -3], prices[:, -2], prices[:, -1]  # Targets\n",
    "# Splitting the data into training and testing sets for each target\n",
    "tscv = TimeSeriesSplit(n_splits=4)  # Adjust n_splits as needed\n",
    "\n",
    "# Take the last split as the training/testing set\n",
    "for train_index, test_index in tscv.split(X):\n",
    "    X_train_1, X_test_1, y_train_1, y_test_1 = X[train_index], X[test_index], y1[train_index], y1[test_index]\n",
    "    X_train_24, X_test_24, y_train_24, y_test_24 = X[train_index], X[test_index], y2[train_index], y2[test_index]\n",
    "    X_train_168, X_test_168, y_train_168, y_test_168 = X[train_index], X[test_index], y3[train_index], y3[test_index]"
   ]
  },
  {
   "cell_type": "code",
   "execution_count": 64,
   "metadata": {},
   "outputs": [],
   "source": [
    "# Step 2: Model Training\n",
    "# Adjust the hyperparameters as needed\n",
    "param_grid = {\n",
    "    'max_depth': [3, 6, 9],\n",
    "    'learning_rate': [0.01, 0.1, 0.3],\n",
    "    'n_estimators': [50, 100, 150],\n",
    "    'subsample': [0.8, 1],\n",
    "    'colsample_bytree': [0.8, 1],\n",
    "    'gamma': [0, 0.1, 0.2]\n",
    "}\n",
    "\n",
    "# Creating the grid search\n",
    "grid_search = GridSearchCV(estimator=xgb.XGBClassifier(objective='binary:logistic', random_state=42),\n",
    "                           param_grid=param_grid,\n",
    "                           scoring='accuracy',\n",
    "                           cv=TimeSeriesSplit(n_splits=4),\n",
    "                           n_jobs=-1)\n",
    "\n",
    "# Fitting the grid search (for each target separately)\n",
    "grid_search.fit(X_train_1, y_train_1)\n",
    "best_params_1 = grid_search.best_params_"
   ]
  },
  {
   "cell_type": "code",
   "execution_count": 65,
   "metadata": {},
   "outputs": [],
   "source": [
    "# Fitting the grid search (for each target separately)\n",
    "grid_search.fit(X_train_24, y_train_24)\n",
    "best_params_24 = grid_search.best_params_"
   ]
  },
  {
   "cell_type": "code",
   "execution_count": 66,
   "metadata": {},
   "outputs": [],
   "source": [
    "# Fitting the grid search (for each target separately)\n",
    "grid_search.fit(X_train_168, y_train_168)\n",
    "best_params_168 = grid_search.best_params_"
   ]
  },
  {
   "cell_type": "code",
   "execution_count": 67,
   "metadata": {},
   "outputs": [
    {
     "data": {
      "text/html": [
       "<style>#sk-container-id-4 {color: black;}#sk-container-id-4 pre{padding: 0;}#sk-container-id-4 div.sk-toggleable {background-color: white;}#sk-container-id-4 label.sk-toggleable__label {cursor: pointer;display: block;width: 100%;margin-bottom: 0;padding: 0.3em;box-sizing: border-box;text-align: center;}#sk-container-id-4 label.sk-toggleable__label-arrow:before {content: \"▸\";float: left;margin-right: 0.25em;color: #696969;}#sk-container-id-4 label.sk-toggleable__label-arrow:hover:before {color: black;}#sk-container-id-4 div.sk-estimator:hover label.sk-toggleable__label-arrow:before {color: black;}#sk-container-id-4 div.sk-toggleable__content {max-height: 0;max-width: 0;overflow: hidden;text-align: left;background-color: #f0f8ff;}#sk-container-id-4 div.sk-toggleable__content pre {margin: 0.2em;color: black;border-radius: 0.25em;background-color: #f0f8ff;}#sk-container-id-4 input.sk-toggleable__control:checked~div.sk-toggleable__content {max-height: 200px;max-width: 100%;overflow: auto;}#sk-container-id-4 input.sk-toggleable__control:checked~label.sk-toggleable__label-arrow:before {content: \"▾\";}#sk-container-id-4 div.sk-estimator input.sk-toggleable__control:checked~label.sk-toggleable__label {background-color: #d4ebff;}#sk-container-id-4 div.sk-label input.sk-toggleable__control:checked~label.sk-toggleable__label {background-color: #d4ebff;}#sk-container-id-4 input.sk-hidden--visually {border: 0;clip: rect(1px 1px 1px 1px);clip: rect(1px, 1px, 1px, 1px);height: 1px;margin: -1px;overflow: hidden;padding: 0;position: absolute;width: 1px;}#sk-container-id-4 div.sk-estimator {font-family: monospace;background-color: #f0f8ff;border: 1px dotted black;border-radius: 0.25em;box-sizing: border-box;margin-bottom: 0.5em;}#sk-container-id-4 div.sk-estimator:hover {background-color: #d4ebff;}#sk-container-id-4 div.sk-parallel-item::after {content: \"\";width: 100%;border-bottom: 1px solid gray;flex-grow: 1;}#sk-container-id-4 div.sk-label:hover label.sk-toggleable__label {background-color: #d4ebff;}#sk-container-id-4 div.sk-serial::before {content: \"\";position: absolute;border-left: 1px solid gray;box-sizing: border-box;top: 0;bottom: 0;left: 50%;z-index: 0;}#sk-container-id-4 div.sk-serial {display: flex;flex-direction: column;align-items: center;background-color: white;padding-right: 0.2em;padding-left: 0.2em;position: relative;}#sk-container-id-4 div.sk-item {position: relative;z-index: 1;}#sk-container-id-4 div.sk-parallel {display: flex;align-items: stretch;justify-content: center;background-color: white;position: relative;}#sk-container-id-4 div.sk-item::before, #sk-container-id-4 div.sk-parallel-item::before {content: \"\";position: absolute;border-left: 1px solid gray;box-sizing: border-box;top: 0;bottom: 0;left: 50%;z-index: -1;}#sk-container-id-4 div.sk-parallel-item {display: flex;flex-direction: column;z-index: 1;position: relative;background-color: white;}#sk-container-id-4 div.sk-parallel-item:first-child::after {align-self: flex-end;width: 50%;}#sk-container-id-4 div.sk-parallel-item:last-child::after {align-self: flex-start;width: 50%;}#sk-container-id-4 div.sk-parallel-item:only-child::after {width: 0;}#sk-container-id-4 div.sk-dashed-wrapped {border: 1px dashed gray;margin: 0 0.4em 0.5em 0.4em;box-sizing: border-box;padding-bottom: 0.4em;background-color: white;}#sk-container-id-4 div.sk-label label {font-family: monospace;font-weight: bold;display: inline-block;line-height: 1.2em;}#sk-container-id-4 div.sk-label-container {text-align: center;}#sk-container-id-4 div.sk-container {/* jupyter's `normalize.less` sets `[hidden] { display: none; }` but bootstrap.min.css set `[hidden] { display: none !important; }` so we also need the `!important` here to be able to override the default hidden behavior on the sphinx rendered scikit-learn.org. See: https://github.com/scikit-learn/scikit-learn/issues/21755 */display: inline-block !important;position: relative;}#sk-container-id-4 div.sk-text-repr-fallback {display: none;}</style><div id=\"sk-container-id-4\" class=\"sk-top-container\"><div class=\"sk-text-repr-fallback\"><pre>XGBClassifier(base_score=None, booster=None, callbacks=None,\n",
       "              colsample_bylevel=None, colsample_bynode=None, colsample_bytree=1,\n",
       "              device=None, early_stopping_rounds=None, enable_categorical=False,\n",
       "              eval_metric=None, feature_types=None, gamma=0.1, grow_policy=None,\n",
       "              importance_type=None, interaction_constraints=None,\n",
       "              learning_rate=0.01, max_bin=None, max_cat_threshold=None,\n",
       "              max_cat_to_onehot=None, max_delta_step=None, max_depth=9,\n",
       "              max_leaves=None, min_child_weight=None, missing=nan,\n",
       "              monotone_constraints=None, multi_strategy=None, n_estimators=100,\n",
       "              n_jobs=None, num_parallel_tree=None, random_state=None, ...)</pre><b>In a Jupyter environment, please rerun this cell to show the HTML representation or trust the notebook. <br />On GitHub, the HTML representation is unable to render, please try loading this page with nbviewer.org.</b></div><div class=\"sk-container\" hidden><div class=\"sk-item\"><div class=\"sk-estimator sk-toggleable\"><input class=\"sk-toggleable__control sk-hidden--visually\" id=\"sk-estimator-id-4\" type=\"checkbox\" checked><label for=\"sk-estimator-id-4\" class=\"sk-toggleable__label sk-toggleable__label-arrow\">XGBClassifier</label><div class=\"sk-toggleable__content\"><pre>XGBClassifier(base_score=None, booster=None, callbacks=None,\n",
       "              colsample_bylevel=None, colsample_bynode=None, colsample_bytree=1,\n",
       "              device=None, early_stopping_rounds=None, enable_categorical=False,\n",
       "              eval_metric=None, feature_types=None, gamma=0.1, grow_policy=None,\n",
       "              importance_type=None, interaction_constraints=None,\n",
       "              learning_rate=0.01, max_bin=None, max_cat_threshold=None,\n",
       "              max_cat_to_onehot=None, max_delta_step=None, max_depth=9,\n",
       "              max_leaves=None, min_child_weight=None, missing=nan,\n",
       "              monotone_constraints=None, multi_strategy=None, n_estimators=100,\n",
       "              n_jobs=None, num_parallel_tree=None, random_state=None, ...)</pre></div></div></div></div></div>"
      ],
      "text/plain": [
       "XGBClassifier(base_score=None, booster=None, callbacks=None,\n",
       "              colsample_bylevel=None, colsample_bynode=None, colsample_bytree=1,\n",
       "              device=None, early_stopping_rounds=None, enable_categorical=False,\n",
       "              eval_metric=None, feature_types=None, gamma=0.1, grow_policy=None,\n",
       "              importance_type=None, interaction_constraints=None,\n",
       "              learning_rate=0.01, max_bin=None, max_cat_threshold=None,\n",
       "              max_cat_to_onehot=None, max_delta_step=None, max_depth=9,\n",
       "              max_leaves=None, min_child_weight=None, missing=nan,\n",
       "              monotone_constraints=None, multi_strategy=None, n_estimators=100,\n",
       "              n_jobs=None, num_parallel_tree=None, random_state=None, ...)"
      ]
     },
     "execution_count": 67,
     "metadata": {},
     "output_type": "execute_result"
    }
   ],
   "source": [
    "# Training the model for each target\n",
    "model_1 = xgb.XGBClassifier(**best_params_1)\n",
    "model_1.fit(X_train_1, y_train_1)\n",
    "\n",
    "model_24 = xgb.XGBClassifier(**best_params_24)\n",
    "model_24.fit(X_train_24, y_train_24)\n",
    "\n",
    "model_168 = xgb.XGBClassifier(**best_params_168)\n",
    "model_168.fit(X_train_168, y_train_168)"
   ]
  },
  {
   "cell_type": "code",
   "execution_count": 68,
   "metadata": {},
   "outputs": [
    {
     "name": "stdout",
     "output_type": "stream",
     "text": [
      "Accuracy for 1-hour ahead: 0.5497026338147833\n",
      "Accuracy for 1-day ahead: 0.5730671197960917\n",
      "Accuracy for 1-week ahead: 0.29141886151231944\n"
     ]
    }
   ],
   "source": [
    "# Step 3: Model Evaluation\n",
    "# Predicting the values for each target\n",
    "y_pred_1 = model_1.predict(X_test_1)\n",
    "y_pred_24 = model_24.predict(X_test_24)\n",
    "y_pred_168 = model_168.predict(X_test_168)\n",
    "\n",
    "# Calculating the accuracy for each target\n",
    "accuracy_1 = accuracy_score(y_test_1, y_pred_1)\n",
    "accuracy_24 = accuracy_score(y_test_24, y_pred_24)\n",
    "accuracy_168 = accuracy_score(y_test_168, y_pred_168)\n",
    "\n",
    "print(f'Accuracy for 1-hour ahead: {accuracy_1}')\n",
    "print(f'Accuracy for 1-day ahead: {accuracy_24}')\n",
    "print(f'Accuracy for 1-week ahead: {accuracy_168}')"
   ]
  },
  {
   "cell_type": "code",
   "execution_count": 69,
   "metadata": {},
   "outputs": [
    {
     "name": "stdout",
     "output_type": "stream",
     "text": [
      "Accuracy for always predicting 1: (0.5148683092608326, 0.5730671197960917, 0.7336448598130841)\n",
      "Accuracy for always predicting 0: (0.4851316907391674, 0.42693288020390824, 0.26635514018691586)\n"
     ]
    }
   ],
   "source": [
    "# Calculating accuracy for always predicting 1 or 0\n",
    "accuracy_always_1 = np.mean(y_test_1 == 1), np.mean(y_test_24 == 1), np.mean(y_test_168 == 1)\n",
    "accuracy_always_0 = np.mean(y_test_1 == 0), np.mean(y_test_24 == 0), np.mean(y_test_168 == 0)\n",
    "\n",
    "print(f'Accuracy for always predicting 1: {accuracy_always_1}')\n",
    "print(f'Accuracy for always predicting 0: {accuracy_always_0}')"
   ]
  },
  {
   "cell_type": "code",
   "execution_count": 70,
   "metadata": {},
   "outputs": [
    {
     "name": "stdout",
     "output_type": "stream",
     "text": [
      "Feature importance for model 1\n"
     ]
    },
    {
     "data": {
      "text/plain": [
       "[('Percentage_Returns', 0.24420872),\n",
       " ('VWAP', 0.14988111),\n",
       " ('Year', 0.14249837),\n",
       " ('Volume USD', 0.122677535),\n",
       " ('Month', 0.10428923),\n",
       " ('RSI', 0.06847395),\n",
       " ('Bollinger_High', 0.06281318),\n",
       " ('Bollinger_Low', 0.053441912),\n",
       " ('EMA', 0.051715955)]"
      ]
     },
     "execution_count": 70,
     "metadata": {},
     "output_type": "execute_result"
    }
   ],
   "source": [
    "# After fitting the model, you can get feature importances\n",
    "feature_importances = model_1.feature_importances_\n",
    "\n",
    "# Mapping feature importances to feature names and sorting them\n",
    "feature_importance_dict = dict(zip(features_extended, feature_importances))\n",
    "sorted_features = sorted(feature_importance_dict.items(), key=lambda x: x[1], reverse=True)\n",
    "print('Feature importance for model 1')\n",
    "sorted_features\n"
   ]
  },
  {
   "cell_type": "code",
   "execution_count": 71,
   "metadata": {},
   "outputs": [
    {
     "name": "stdout",
     "output_type": "stream",
     "text": [
      "Feature importance for model 24\n"
     ]
    },
    {
     "data": {
      "text/plain": [
       "[('Percentage_Returns', 0.19741473),\n",
       " ('Month', 0.18365867),\n",
       " ('VWAP', 0.13552561),\n",
       " ('Bollinger_Low', 0.124791294),\n",
       " ('EMA', 0.11823178),\n",
       " ('RSI', 0.111368366),\n",
       " ('Bollinger_High', 0.09301056),\n",
       " ('Volume USD', 0.03599898),\n",
       " ('Year', 0.0)]"
      ]
     },
     "execution_count": 71,
     "metadata": {},
     "output_type": "execute_result"
    }
   ],
   "source": [
    "# After fitting the model, you can get feature importances\n",
    "feature_importances = model_24.feature_importances_\n",
    "\n",
    "# Mapping feature importances to feature names and sorting them\n",
    "feature_importance_dict = dict(zip(features_extended, feature_importances))\n",
    "sorted_features = sorted(feature_importance_dict.items(), key=lambda x: x[1], reverse=True)\n",
    "print('Feature importance for model 24')\n",
    "sorted_features"
   ]
  },
  {
   "cell_type": "code",
   "execution_count": 72,
   "metadata": {},
   "outputs": [
    {
     "name": "stdout",
     "output_type": "stream",
     "text": [
      "Feature importance for model 168\n"
     ]
    },
    {
     "data": {
      "text/plain": [
       "[('Month', 0.48278987),\n",
       " ('VWAP', 0.20908959),\n",
       " ('EMA', 0.10436893),\n",
       " ('Bollinger_Low', 0.07665031),\n",
       " ('Bollinger_High', 0.07459992),\n",
       " ('RSI', 0.036594763),\n",
       " ('Volume USD', 0.00905193),\n",
       " ('Percentage_Returns', 0.0068547446),\n",
       " ('Year', 0.0)]"
      ]
     },
     "execution_count": 72,
     "metadata": {},
     "output_type": "execute_result"
    }
   ],
   "source": [
    "# After fitting the model, you can get feature importances\n",
    "feature_importances = model_168.feature_importances_\n",
    "\n",
    "# Mapping feature importances to feature names and sorting them\n",
    "feature_importance_dict = dict(zip(features_extended, feature_importances))\n",
    "sorted_features = sorted(feature_importance_dict.items(), key=lambda x: x[1], reverse=True)\n",
    "print('Feature importance for model 168')\n",
    "sorted_features"
   ]
  },
  {
   "cell_type": "code",
   "execution_count": 73,
   "metadata": {},
   "outputs": [
    {
     "name": "stdout",
     "output_type": "stream",
     "text": [
      "Best params for 1:\n"
     ]
    },
    {
     "data": {
      "text/plain": [
       "{'colsample_bytree': 1,\n",
       " 'gamma': 0.2,\n",
       " 'learning_rate': 0.1,\n",
       " 'max_depth': 3,\n",
       " 'n_estimators': 50,\n",
       " 'subsample': 0.8}"
      ]
     },
     "execution_count": 73,
     "metadata": {},
     "output_type": "execute_result"
    }
   ],
   "source": [
    "print('Best params for 1:')\n",
    "best_params_1"
   ]
  },
  {
   "cell_type": "code",
   "execution_count": 74,
   "metadata": {},
   "outputs": [
    {
     "name": "stdout",
     "output_type": "stream",
     "text": [
      "Best params for 24:\n"
     ]
    },
    {
     "data": {
      "text/plain": [
       "{'colsample_bytree': 1,\n",
       " 'gamma': 0,\n",
       " 'learning_rate': 0.01,\n",
       " 'max_depth': 3,\n",
       " 'n_estimators': 50,\n",
       " 'subsample': 1}"
      ]
     },
     "execution_count": 74,
     "metadata": {},
     "output_type": "execute_result"
    }
   ],
   "source": [
    "print('Best params for 24:')\n",
    "best_params_24"
   ]
  },
  {
   "cell_type": "code",
   "execution_count": 75,
   "metadata": {},
   "outputs": [
    {
     "name": "stdout",
     "output_type": "stream",
     "text": [
      "Best params for 168:\n"
     ]
    },
    {
     "data": {
      "text/plain": [
       "{'colsample_bytree': 1,\n",
       " 'gamma': 0.1,\n",
       " 'learning_rate': 0.01,\n",
       " 'max_depth': 9,\n",
       " 'n_estimators': 100,\n",
       " 'subsample': 1}"
      ]
     },
     "execution_count": 75,
     "metadata": {},
     "output_type": "execute_result"
    }
   ],
   "source": [
    "print('Best params for 168:')\n",
    "best_params_168"
   ]
  }
 ],
 "metadata": {
  "kernelspec": {
   "display_name": "gpu_env",
   "language": "python",
   "name": "python3"
  },
  "language_info": {
   "codemirror_mode": {
    "name": "ipython",
    "version": 3
   },
   "file_extension": ".py",
   "mimetype": "text/x-python",
   "name": "python",
   "nbconvert_exporter": "python",
   "pygments_lexer": "ipython3",
   "version": "3.8.10"
  },
  "orig_nbformat": 4
 },
 "nbformat": 4,
 "nbformat_minor": 2
}
